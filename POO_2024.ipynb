{
  "nbformat": 4,
  "nbformat_minor": 0,
  "metadata": {
    "colab": {
      "provenance": [],
      "authorship_tag": "ABX9TyMEYT4F8OfHt5Nmjj3DQc5Y",
      "include_colab_link": true
    },
    "kernelspec": {
      "name": "python3",
      "display_name": "Python 3"
    },
    "language_info": {
      "name": "python"
    }
  },
  "cells": [
    {
      "cell_type": "markdown",
      "metadata": {
        "id": "view-in-github",
        "colab_type": "text"
      },
      "source": [
        "<a href=\"https://colab.research.google.com/github/Ysierp/POO-COOP2024-02/blob/main/POO_2024.ipynb\" target=\"_parent\"><img src=\"https://colab.research.google.com/assets/colab-badge.svg\" alt=\"Open In Colab\"/></a>"
      ]
    },
    {
      "cell_type": "code",
      "execution_count": null,
      "metadata": {
        "id": "IrZiFMR9hyIc"
      },
      "outputs": [],
      "source": []
    },
    {
      "cell_type": "markdown",
      "source": [
        "#EX01\n",
        " Converter F para C OBS: Entrada: F processamento: C = (5/9)(F-32) Saída: C"
      ],
      "metadata": {
        "id": "JgR1UJSAexmY"
      }
    },
    {
      "cell_type": "code",
      "source": [
        "F = float(input(\"Digite valor em Graus Farenheit: \"))\n",
        "C = (5/9)*(F-32)\n",
        "print(\"Graus Celsius: \", C)"
      ],
      "metadata": {
        "colab": {
          "base_uri": "https://localhost:8080/"
        },
        "id": "PLxNFdSMh-N1",
        "outputId": "7b5f5b4d-773a-4393-adee-458afd942bf5"
      },
      "execution_count": 2,
      "outputs": [
        {
          "output_type": "stream",
          "name": "stdout",
          "text": [
            "Digite valor em Graus Farenheit: 30\n",
            "Graus Celsius:  -1.1111111111111112\n"
          ]
        }
      ]
    },
    {
      "cell_type": "markdown",
      "source": [
        "Resolução do mesmo exercício usando a função (método) printf"
      ],
      "metadata": {
        "id": "GT5LcztPiGJ0"
      }
    },
    {
      "cell_type": "code",
      "source": [
        "F = float(input(\"Digite valor em Graus Farenheit: \"))\n",
        "C = (5/9)*(F-32)\n",
        "print(f\"O Valor de {F}°Farenheit corresponde ao valor de {C}°C \")"
      ],
      "metadata": {
        "colab": {
          "base_uri": "https://localhost:8080/"
        },
        "id": "pfoUhUcNiHRe",
        "outputId": "47ffff65-29e6-43be-aaa1-e42370a860b0"
      },
      "execution_count": 3,
      "outputs": [
        {
          "output_type": "stream",
          "name": "stdout",
          "text": [
            "Digite valor em Graus Farenheit: 30\n",
            "O Valor de 30.0°Farenheit corresponde ao valor de -1.1111111111111112°C \n"
          ]
        }
      ]
    },
    {
      "cell_type": "markdown",
      "source": [
        "#EX02\n",
        "Código de um programa que solicite ao usuário digitar medida em polegadas e converter o valor dado\n",
        "para milímetros. (1”=25,4mm)\n",
        "\n",
        "Entrada : P\n",
        "Processamento: MM = P*25.4\n",
        "Saída: MM"
      ],
      "metadata": {
        "id": "-VabXfLQjaPW"
      }
    },
    {
      "cell_type": "code",
      "source": [
        "P = float(input(\"Digite valor em Polegadas: \"))\n",
        "MM = P*25.4\n",
        "print(f\"O valor de {P}pol corresponde ao valor de {MM:.2f}mm\")"
      ],
      "metadata": {
        "colab": {
          "base_uri": "https://localhost:8080/"
        },
        "id": "WtJ0YIVNjbri",
        "outputId": "eaa85186-1609-4268-e81a-de85edef8b82"
      },
      "execution_count": 12,
      "outputs": [
        {
          "output_type": "stream",
          "name": "stdout",
          "text": [
            "Digite valor em Polegadas: 10.01111\n",
            "O valor de 10.01111pol corresponde ao valor de 254.28mm\n"
          ]
        }
      ]
    },
    {
      "cell_type": "markdown",
      "source": [
        "código de um programa que solicite ao usuário digitar uma medida\n",
        "em milímetros, elaborar um programa para converter o valor dado para polegadas."
      ],
      "metadata": {
        "id": "5QM0kX6ElvTe"
      }
    },
    {
      "cell_type": "code",
      "source": [
        "M = float(input(\"Digite valor em Milimetros: \"))\n",
        "P = M/25.4\n",
        "print(f\"O valor de {MM} Milimetros corresponde ao valor de {P:.2f} Polegadas\")"
      ],
      "metadata": {
        "colab": {
          "base_uri": "https://localhost:8080/"
        },
        "id": "4K98r3k5l434",
        "outputId": "ae72fd28-cec3-448a-c353-6f337c76de44"
      },
      "execution_count": 13,
      "outputs": [
        {
          "output_type": "stream",
          "name": "stdout",
          "text": [
            "Digite valor em Milimetros: 254.28\n",
            "O valor de 254.282194 Milimetros corresponde ao valor de 10.01 Polegadas\n"
          ]
        }
      ]
    },
    {
      "cell_type": "markdown",
      "source": [
        "#PROGRAMA VERIFICAR DE IDADE PARA VOTAÇÃO"
      ],
      "metadata": {
        "id": "KZW0yN_No-_V"
      }
    },
    {
      "cell_type": "code",
      "source": [
        "#entrada: Idade\n",
        "#Saída: \"Pode Votar ou Não\"\n",
        "\n",
        "idade = int(input(\"Digite sua idade: \"))\n",
        "if idade >= 16:\n",
        "  print(\"Pode Votar\")\n",
        "else :\n",
        "  print(\"Não pode votar\")"
      ],
      "metadata": {
        "colab": {
          "base_uri": "https://localhost:8080/"
        },
        "id": "W8FZIxl5pCMN",
        "outputId": "ecdb596e-7044-4fde-df01-b16fc3995dc8"
      },
      "execution_count": 49,
      "outputs": [
        {
          "output_type": "stream",
          "name": "stdout",
          "text": [
            "Digite sua idade: 12\n",
            "Não pode votar\n"
          ]
        }
      ]
    }
  ]
}